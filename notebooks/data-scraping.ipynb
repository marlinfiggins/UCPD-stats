{
 "cells": [
  {
   "cell_type": "markdown",
   "metadata": {},
   "source": [
    "# UCPD Field Interview Data Scraping with BeautifulSoup and Pandas\n",
    "## Author: Marlin Figgins\n",
    "\n",
    "The purpose of this notebook is to walk you through the process of scraping the University of Chicago Police Department's Daily incidence reports using Python."
   ]
  },
  {
   "cell_type": "markdown",
   "metadata": {},
   "source": [
    "## Why this data set?\n",
    "\n",
    "The University of Chicago Police Department (UCPD) is one of the world's largest private police forces. As the interest in police abolition and criminal justice reform has boomed in the eyes of the general public in recent months, there is a growing need to publically and carefully analyze policing pratices, their biases, history, and purpose.\n",
    "\n",
    "The UCPD in particular has an extremely well-documented history as an arm of the University of Chicago and its goal to expand its influence and jurdistition. Here, we attempt to use publically available data (in the form of daily incidence reports) provided by the UCPD itself to see what we can learn about the UCPD's pratices and its relationship with the University of Chicago in recent years."
   ]
  },
  {
   "cell_type": "markdown",
   "metadata": {},
   "source": [
    "The UCPD's website is set up so that only 5 entries are visible per page. In order to save ourselves hours of clicking, we'll be scrapping directly from the site using the [requests](https://requests.readthedocs.io/en/master/) and [beautifulsoup](https://www.crummy.com/software/BeautifulSoup/bs4/doc/) python packages.\n",
    "\n",
    "We'll start with the field interviews. To begin, I conducteed a search for all field interviews which occured between June 1st, 2015 and August 2nd, 2020 directly on the UCPD site which yields the url \"https://incidentreports.uchicago.edu/fieldInterviewsArchive.php?startDate=06%2F01%2F2015&endDate=08%2F02%2F2020\". Clicking the 'next page' link appended \"&offset=5\" to the url above.\n",
    "\n",
    "It seems that the URL for any given page consists of three parts:\n",
    "- The site URL: \"https://incidentreports.uchicago.edu/fieldInterviewsArchive.php?\"\n",
    "- The date range: \"startDate=06%2F01%2F2015&endDate=08%2F02%2F2020\"\n",
    "- The offset: \"&offset=5\""
   ]
  },
  {
   "cell_type": "code",
   "execution_count": 1,
   "metadata": {},
   "outputs": [],
   "source": [
    "# Intializing UCPD site url\n",
    "ucpd_site = \"https://incidentreports.uchicago.edu/fieldInterviewsArchive.php?\""
   ]
  },
  {
   "cell_type": "code",
   "execution_count": 2,
   "metadata": {},
   "outputs": [],
   "source": [
    "# import datetime\n",
    "import datetime\n",
    "\n",
    "# Intializing date range between June 1st, 2020 and today's date.\n",
    "start_date = \"06-01-2015\".replace(\"-\", \"%2F\")\n",
    "end_date = datetime.datetime.now().strftime(\"%m-%d-%Y\").replace(\"-\", \"%2F\")\n",
    "\n",
    "date_range = f\"startDate={start_date}&endDate={end_date}\""
   ]
  },
  {
   "cell_type": "code",
   "execution_count": 3,
   "metadata": {},
   "outputs": [
    {
     "name": "stdout",
     "output_type": "stream",
     "text": [
      "https://incidentreports.uchicago.edu/fieldInterviewsArchive.php?startDate=06%2F01%2F2015&endDate=08%2F14%2F2020\n"
     ]
    }
   ],
   "source": [
    "# Printing base url for scraping\n",
    "base_url = ucpd_site + date_range\n",
    "print(base_url)"
   ]
  },
  {
   "cell_type": "markdown",
   "metadata": {},
   "source": [
    "## Using requests and beautiful soup\n",
    "\n",
    "To extract the data contained on the UCPD site, we'll be using the python packages `requests` and `BeautifulSoup`. The requests package allows us to make an HTTP request and retrieve the text of the website while BeautifulSoup will give us to the tools to parse the HTML into usable information.\n",
    "\n",
    "As a starting example, we'll pull out the headers of the dateframe we intend on making though this isn't necessary as we'll use Pandas to automatically add these in later."
   ]
  },
  {
   "cell_type": "code",
   "execution_count": 4,
   "metadata": {},
   "outputs": [
    {
     "name": "stdout",
     "output_type": "stream",
     "text": [
      "['Date/Time', 'Location', 'Initiated By', 'Race', 'Gender', 'Reason for Stop', 'Disposition', 'Search']\n"
     ]
    }
   ],
   "source": [
    "# Importing requests and BeautifulSoup\n",
    "import requests\n",
    "from bs4 import BeautifulSoup as bs\n",
    "\n",
    "# Retrieving table headers\n",
    "page = requests.get(ucpd_site + date_range) # Requesting UCPD website\n",
    "soup = bs(page.text) # Parsing website HTML text\n",
    "table = soup.find('table').find_all('tr') # Finding tables and table rows\n",
    "headers = [col_name.text for col_name in table[0].find_all('th')] # Pulling Table Headers\n",
    "print(headers)"
   ]
  },
  {
   "cell_type": "code",
   "execution_count": 5,
   "metadata": {},
   "outputs": [
    {
     "name": "stdout",
     "output_type": "stream",
     "text": [
      "363\n"
     ]
    }
   ],
   "source": [
    "# Finding maximum page number for inquiries\n",
    "page = requests.get(base_url)\n",
    "soup = bs(page.text)\n",
    "page_counter = soup.find_all('li', {\"class\": \"page-count\"})\n",
    "max_page = page_counter[0].text.split()[-1]\n",
    "\n",
    "print(max_page)"
   ]
  },
  {
   "cell_type": "code",
   "execution_count": 6,
   "metadata": {},
   "outputs": [],
   "source": [
    "# Importing pandas\n",
    "import pandas as pd\n",
    "\n",
    "# Scraping individual pages\n",
    "max_page = 20\n",
    "\n",
    "df_list = [] \n",
    "for page in range(max_page):\n",
    "    \n",
    "    page = requests.get(base_url + f\"&offset={page*5}\")\n",
    "    soup = bs(page.text) \n",
    "    \n",
    "    # Read in soup as dataframe and add to list of dataframes\n",
    "    df_list.append(pd.DataFrame(pd.read_html(str(soup))[0])) "
   ]
  },
  {
   "cell_type": "code",
   "execution_count": 7,
   "metadata": {},
   "outputs": [
    {
     "data": {
      "text/html": [
       "<div>\n",
       "<style scoped>\n",
       "    .dataframe tbody tr th:only-of-type {\n",
       "        vertical-align: middle;\n",
       "    }\n",
       "\n",
       "    .dataframe tbody tr th {\n",
       "        vertical-align: top;\n",
       "    }\n",
       "\n",
       "    .dataframe thead th {\n",
       "        text-align: right;\n",
       "    }\n",
       "</style>\n",
       "<table border=\"1\" class=\"dataframe\">\n",
       "  <thead>\n",
       "    <tr style=\"text-align: right;\">\n",
       "      <th></th>\n",
       "      <th>Date/Time</th>\n",
       "      <th>Location</th>\n",
       "      <th>Initiated By</th>\n",
       "      <th>Race</th>\n",
       "      <th>Gender</th>\n",
       "      <th>Reason for Stop</th>\n",
       "      <th>Disposition</th>\n",
       "      <th>Search</th>\n",
       "    </tr>\n",
       "  </thead>\n",
       "  <tbody>\n",
       "    <tr>\n",
       "      <td>0</td>\n",
       "      <td>No field interviews for 06/01/2015</td>\n",
       "      <td>No field interviews for 06/01/2015</td>\n",
       "      <td>No field interviews for 06/01/2015</td>\n",
       "      <td>No field interviews for 06/01/2015</td>\n",
       "      <td>No field interviews for 06/01/2015</td>\n",
       "      <td>No field interviews for 06/01/2015</td>\n",
       "      <td>No field interviews for 06/01/2015</td>\n",
       "      <td>No field interviews for 06/01/2015</td>\n",
       "    </tr>\n",
       "    <tr>\n",
       "      <td>1</td>\n",
       "      <td>No field interviews for 06/02/2015</td>\n",
       "      <td>No field interviews for 06/02/2015</td>\n",
       "      <td>No field interviews for 06/02/2015</td>\n",
       "      <td>No field interviews for 06/02/2015</td>\n",
       "      <td>No field interviews for 06/02/2015</td>\n",
       "      <td>No field interviews for 06/02/2015</td>\n",
       "      <td>No field interviews for 06/02/2015</td>\n",
       "      <td>No field interviews for 06/02/2015</td>\n",
       "    </tr>\n",
       "    <tr>\n",
       "      <td>2</td>\n",
       "      <td>6/3/2015 1:40 PM</td>\n",
       "      <td>1601 E 53rd</td>\n",
       "      <td>Citizen request for UCPD Response</td>\n",
       "      <td>African American</td>\n",
       "      <td>Female</td>\n",
       "      <td>Citizen observed subject having a verbal argum...</td>\n",
       "      <td>Name checked; no further action</td>\n",
       "      <td>No</td>\n",
       "    </tr>\n",
       "    <tr>\n",
       "      <td>3</td>\n",
       "      <td>6/3/2015 1:40 PM</td>\n",
       "      <td>1601 E 53rd</td>\n",
       "      <td>Citizen request for UCPD Response</td>\n",
       "      <td>African American</td>\n",
       "      <td>Male</td>\n",
       "      <td>Citizen observed subject having a verbal argum...</td>\n",
       "      <td>Name checked; no further action</td>\n",
       "      <td>No</td>\n",
       "    </tr>\n",
       "    <tr>\n",
       "      <td>4</td>\n",
       "      <td>6/4/2015 8:21 PM</td>\n",
       "      <td>5245 S Cottage Grove</td>\n",
       "      <td>Citizen request for UCPD Response</td>\n",
       "      <td>African American</td>\n",
       "      <td>Male</td>\n",
       "      <td>Complainant advised subject acted suspicious (...</td>\n",
       "      <td>Name checked; no further action</td>\n",
       "      <td>No</td>\n",
       "    </tr>\n",
       "  </tbody>\n",
       "</table>\n",
       "</div>"
      ],
      "text/plain": [
       "                            Date/Time                            Location  \\\n",
       "0  No field interviews for 06/01/2015  No field interviews for 06/01/2015   \n",
       "1  No field interviews for 06/02/2015  No field interviews for 06/02/2015   \n",
       "2                    6/3/2015 1:40 PM                         1601 E 53rd   \n",
       "3                    6/3/2015 1:40 PM                         1601 E 53rd   \n",
       "4                    6/4/2015 8:21 PM                5245 S Cottage Grove   \n",
       "\n",
       "                         Initiated By                                Race  \\\n",
       "0  No field interviews for 06/01/2015  No field interviews for 06/01/2015   \n",
       "1  No field interviews for 06/02/2015  No field interviews for 06/02/2015   \n",
       "2   Citizen request for UCPD Response                    African American   \n",
       "3   Citizen request for UCPD Response                    African American   \n",
       "4   Citizen request for UCPD Response                    African American   \n",
       "\n",
       "                               Gender  \\\n",
       "0  No field interviews for 06/01/2015   \n",
       "1  No field interviews for 06/02/2015   \n",
       "2                              Female   \n",
       "3                                Male   \n",
       "4                                Male   \n",
       "\n",
       "                                     Reason for Stop  \\\n",
       "0                 No field interviews for 06/01/2015   \n",
       "1                 No field interviews for 06/02/2015   \n",
       "2  Citizen observed subject having a verbal argum...   \n",
       "3  Citizen observed subject having a verbal argum...   \n",
       "4  Complainant advised subject acted suspicious (...   \n",
       "\n",
       "                          Disposition                              Search  \n",
       "0  No field interviews for 06/01/2015  No field interviews for 06/01/2015  \n",
       "1  No field interviews for 06/02/2015  No field interviews for 06/02/2015  \n",
       "2     Name checked; no further action                                  No  \n",
       "3     Name checked; no further action                                  No  \n",
       "4     Name checked; no further action                                  No  "
      ]
     },
     "execution_count": 7,
     "metadata": {},
     "output_type": "execute_result"
    }
   ],
   "source": [
    "df = pd.concat(df_list)\n",
    "df.head()"
   ]
  },
  {
   "cell_type": "markdown",
   "metadata": {},
   "source": [
    "There we go! Here is our raw data from the site! We'll now wrap this process in a function for ease of use. This function can also be found in the script `data-scraping.py`in this repository."
   ]
  },
  {
   "cell_type": "code",
   "execution_count": 8,
   "metadata": {},
   "outputs": [],
   "source": [
    "def scrape_UCPD_data(start_date = \"06-01-2015\", end_date = None, \n",
    "                     max_page = None, data_type = \"Field Interview\"):\n",
    "\n",
    "    \"\"\"\n",
    "    Scrapes University of Chicago Police Department's website.\n",
    "    Takes arguments start_date, end_date, max_page, data_type.\n",
    "\n",
    "    Arguments:\n",
    "    start_date: Date in %MM%DD%YYYY format denoting start date for query.\n",
    "    end_date: Date in %MM%DD%YYYY format denoting end date for query.\n",
    "    max_page: Integer denoting number of entries desired.\n",
    "    data_type: String. Options: \"Field interview\", \"Traffic\".\n",
    "    \"\"\"\n",
    "\n",
    "    # Initializing date_range\n",
    "    if end_date == None:\n",
    "        end_date = datetime.datetime.now().strftime(\"%m-%d-%Y\")\n",
    "\n",
    "    start_date = start_date.replace(\"-\", \"%2F\")\n",
    "    end_date = end_date.replace(\"-\", \"%2F\")\n",
    "    date_range = f\"startDate={start_date}&endDate={end_date}\"\n",
    "    \n",
    "    # Forming search url\n",
    "    if data_type == \"Field Interview\": # Find appropriate search type\n",
    "        ucpd_site = \"https://incidentreports.uchicago.edu/fieldInterviewsArchive.php?\" \n",
    "    elif data_type == \"Traffic\":\n",
    "        ucpd_site = \"https://incidentreports.uchicago.edu/trafficStopsArchive.php?\" \n",
    "\n",
    "\n",
    "    base_url = ucpd_site + date_range\n",
    "\n",
    "    if max_page == None: # unless specified do maximum query\n",
    "        page = requests.get(base_url)\n",
    "        soup = bs(page.text) \n",
    "        page_counter = soup.find_all('li', {\"class\": \"page-count\"})\n",
    "        max_page = int(page_counter[0].text.split()[-1])\n",
    "        \n",
    "    # Scraping Data\n",
    "    df_list = [] \n",
    "    for page_num in range(max_page):\n",
    "\n",
    "        page = requests.get(base_url + f\"&offset={page_num*5}\")\n",
    "        soup = bs(page.text) \n",
    "\n",
    "        # Read in soup as dataframe and add to list\n",
    "        df_list.append(pd.DataFrame(pd.read_html(str(soup))[0])) \n",
    "\n",
    "    df = pd.concat(df_list)\n",
    "    return df"
   ]
  },
  {
   "cell_type": "code",
   "execution_count": 9,
   "metadata": {},
   "outputs": [
    {
     "data": {
      "text/html": [
       "<div>\n",
       "<style scoped>\n",
       "    .dataframe tbody tr th:only-of-type {\n",
       "        vertical-align: middle;\n",
       "    }\n",
       "\n",
       "    .dataframe tbody tr th {\n",
       "        vertical-align: top;\n",
       "    }\n",
       "\n",
       "    .dataframe thead th {\n",
       "        text-align: right;\n",
       "    }\n",
       "</style>\n",
       "<table border=\"1\" class=\"dataframe\">\n",
       "  <thead>\n",
       "    <tr style=\"text-align: right;\">\n",
       "      <th></th>\n",
       "      <th>Date/Time</th>\n",
       "      <th>Location</th>\n",
       "      <th>Initiated By</th>\n",
       "      <th>Race</th>\n",
       "      <th>Gender</th>\n",
       "      <th>Reason for Stop</th>\n",
       "      <th>Disposition</th>\n",
       "      <th>Search</th>\n",
       "    </tr>\n",
       "  </thead>\n",
       "  <tbody>\n",
       "    <tr>\n",
       "      <td>0</td>\n",
       "      <td>No field interviews for 06/01/2015</td>\n",
       "      <td>No field interviews for 06/01/2015</td>\n",
       "      <td>No field interviews for 06/01/2015</td>\n",
       "      <td>No field interviews for 06/01/2015</td>\n",
       "      <td>No field interviews for 06/01/2015</td>\n",
       "      <td>No field interviews for 06/01/2015</td>\n",
       "      <td>No field interviews for 06/01/2015</td>\n",
       "      <td>No field interviews for 06/01/2015</td>\n",
       "    </tr>\n",
       "    <tr>\n",
       "      <td>1</td>\n",
       "      <td>No field interviews for 06/02/2015</td>\n",
       "      <td>No field interviews for 06/02/2015</td>\n",
       "      <td>No field interviews for 06/02/2015</td>\n",
       "      <td>No field interviews for 06/02/2015</td>\n",
       "      <td>No field interviews for 06/02/2015</td>\n",
       "      <td>No field interviews for 06/02/2015</td>\n",
       "      <td>No field interviews for 06/02/2015</td>\n",
       "      <td>No field interviews for 06/02/2015</td>\n",
       "    </tr>\n",
       "    <tr>\n",
       "      <td>2</td>\n",
       "      <td>6/3/2015 1:40 PM</td>\n",
       "      <td>1601 E 53rd</td>\n",
       "      <td>Citizen request for UCPD Response</td>\n",
       "      <td>African American</td>\n",
       "      <td>Female</td>\n",
       "      <td>Citizen observed subject having a verbal argum...</td>\n",
       "      <td>Name checked; no further action</td>\n",
       "      <td>No</td>\n",
       "    </tr>\n",
       "    <tr>\n",
       "      <td>3</td>\n",
       "      <td>6/3/2015 1:40 PM</td>\n",
       "      <td>1601 E 53rd</td>\n",
       "      <td>Citizen request for UCPD Response</td>\n",
       "      <td>African American</td>\n",
       "      <td>Male</td>\n",
       "      <td>Citizen observed subject having a verbal argum...</td>\n",
       "      <td>Name checked; no further action</td>\n",
       "      <td>No</td>\n",
       "    </tr>\n",
       "    <tr>\n",
       "      <td>4</td>\n",
       "      <td>6/4/2015 8:21 PM</td>\n",
       "      <td>5245 S Cottage Grove</td>\n",
       "      <td>Citizen request for UCPD Response</td>\n",
       "      <td>African American</td>\n",
       "      <td>Male</td>\n",
       "      <td>Complainant advised subject acted suspicious (...</td>\n",
       "      <td>Name checked; no further action</td>\n",
       "      <td>No</td>\n",
       "    </tr>\n",
       "  </tbody>\n",
       "</table>\n",
       "</div>"
      ],
      "text/plain": [
       "                            Date/Time                            Location  \\\n",
       "0  No field interviews for 06/01/2015  No field interviews for 06/01/2015   \n",
       "1  No field interviews for 06/02/2015  No field interviews for 06/02/2015   \n",
       "2                    6/3/2015 1:40 PM                         1601 E 53rd   \n",
       "3                    6/3/2015 1:40 PM                         1601 E 53rd   \n",
       "4                    6/4/2015 8:21 PM                5245 S Cottage Grove   \n",
       "\n",
       "                         Initiated By                                Race  \\\n",
       "0  No field interviews for 06/01/2015  No field interviews for 06/01/2015   \n",
       "1  No field interviews for 06/02/2015  No field interviews for 06/02/2015   \n",
       "2   Citizen request for UCPD Response                    African American   \n",
       "3   Citizen request for UCPD Response                    African American   \n",
       "4   Citizen request for UCPD Response                    African American   \n",
       "\n",
       "                               Gender  \\\n",
       "0  No field interviews for 06/01/2015   \n",
       "1  No field interviews for 06/02/2015   \n",
       "2                              Female   \n",
       "3                                Male   \n",
       "4                                Male   \n",
       "\n",
       "                                     Reason for Stop  \\\n",
       "0                 No field interviews for 06/01/2015   \n",
       "1                 No field interviews for 06/02/2015   \n",
       "2  Citizen observed subject having a verbal argum...   \n",
       "3  Citizen observed subject having a verbal argum...   \n",
       "4  Complainant advised subject acted suspicious (...   \n",
       "\n",
       "                          Disposition                              Search  \n",
       "0  No field interviews for 06/01/2015  No field interviews for 06/01/2015  \n",
       "1  No field interviews for 06/02/2015  No field interviews for 06/02/2015  \n",
       "2     Name checked; no further action                                  No  \n",
       "3     Name checked; no further action                                  No  \n",
       "4     Name checked; no further action                                  No  "
      ]
     },
     "execution_count": 9,
     "metadata": {},
     "output_type": "execute_result"
    }
   ],
   "source": [
    "# Test scraping field interview data\n",
    "df = scrape_UCPD_data(max_page = 10, data_type = \"Field Interview\")\n",
    "df.head()"
   ]
  },
  {
   "cell_type": "code",
   "execution_count": 10,
   "metadata": {},
   "outputs": [
    {
     "data": {
      "text/html": [
       "<div>\n",
       "<style scoped>\n",
       "    .dataframe tbody tr th:only-of-type {\n",
       "        vertical-align: middle;\n",
       "    }\n",
       "\n",
       "    .dataframe tbody tr th {\n",
       "        vertical-align: top;\n",
       "    }\n",
       "\n",
       "    .dataframe thead th {\n",
       "        text-align: right;\n",
       "    }\n",
       "</style>\n",
       "<table border=\"1\" class=\"dataframe\">\n",
       "  <thead>\n",
       "    <tr style=\"text-align: right;\">\n",
       "      <th></th>\n",
       "      <th>Date/Time</th>\n",
       "      <th>Location</th>\n",
       "      <th>Race</th>\n",
       "      <th>Gender</th>\n",
       "      <th>IDOT Classification</th>\n",
       "      <th>Reason for Stop</th>\n",
       "      <th>Citations/Violations</th>\n",
       "      <th>Disposition</th>\n",
       "      <th>Search</th>\n",
       "    </tr>\n",
       "  </thead>\n",
       "  <tbody>\n",
       "    <tr>\n",
       "      <td>0</td>\n",
       "      <td>No traffic stops for 06/01/2015</td>\n",
       "      <td>No traffic stops for 06/01/2015</td>\n",
       "      <td>No traffic stops for 06/01/2015</td>\n",
       "      <td>No traffic stops for 06/01/2015</td>\n",
       "      <td>No traffic stops for 06/01/2015</td>\n",
       "      <td>No traffic stops for 06/01/2015</td>\n",
       "      <td>No traffic stops for 06/01/2015</td>\n",
       "      <td>No traffic stops for 06/01/2015</td>\n",
       "      <td>No traffic stops for 06/01/2015</td>\n",
       "    </tr>\n",
       "    <tr>\n",
       "      <td>1</td>\n",
       "      <td>No traffic stops for 06/02/2015</td>\n",
       "      <td>No traffic stops for 06/02/2015</td>\n",
       "      <td>No traffic stops for 06/02/2015</td>\n",
       "      <td>No traffic stops for 06/02/2015</td>\n",
       "      <td>No traffic stops for 06/02/2015</td>\n",
       "      <td>No traffic stops for 06/02/2015</td>\n",
       "      <td>No traffic stops for 06/02/2015</td>\n",
       "      <td>No traffic stops for 06/02/2015</td>\n",
       "      <td>No traffic stops for 06/02/2015</td>\n",
       "    </tr>\n",
       "    <tr>\n",
       "      <td>2</td>\n",
       "      <td>6/3/2015 9:26 AM</td>\n",
       "      <td>5600 S Stony Island</td>\n",
       "      <td>African American</td>\n",
       "      <td>Female</td>\n",
       "      <td>Traffic Sign/Signal</td>\n",
       "      <td>Stop Sign Violation, Failed to Yield to Pedest...</td>\n",
       "      <td>NaN</td>\n",
       "      <td>Verbal Warning</td>\n",
       "      <td>No</td>\n",
       "    </tr>\n",
       "    <tr>\n",
       "      <td>3</td>\n",
       "      <td>6/4/2015 5:44 PM</td>\n",
       "      <td>5900 S Ellis</td>\n",
       "      <td>African American</td>\n",
       "      <td>Female</td>\n",
       "      <td>Follow Too Close</td>\n",
       "      <td>Following too closely to vehicle stopped for p...</td>\n",
       "      <td>NaN</td>\n",
       "      <td>Verbal Warning</td>\n",
       "      <td>No</td>\n",
       "    </tr>\n",
       "    <tr>\n",
       "      <td>4</td>\n",
       "      <td>No traffic stops for 06/05/2015</td>\n",
       "      <td>No traffic stops for 06/05/2015</td>\n",
       "      <td>No traffic stops for 06/05/2015</td>\n",
       "      <td>No traffic stops for 06/05/2015</td>\n",
       "      <td>No traffic stops for 06/05/2015</td>\n",
       "      <td>No traffic stops for 06/05/2015</td>\n",
       "      <td>No traffic stops for 06/05/2015</td>\n",
       "      <td>No traffic stops for 06/05/2015</td>\n",
       "      <td>No traffic stops for 06/05/2015</td>\n",
       "    </tr>\n",
       "  </tbody>\n",
       "</table>\n",
       "</div>"
      ],
      "text/plain": [
       "                         Date/Time                         Location  \\\n",
       "0  No traffic stops for 06/01/2015  No traffic stops for 06/01/2015   \n",
       "1  No traffic stops for 06/02/2015  No traffic stops for 06/02/2015   \n",
       "2                 6/3/2015 9:26 AM              5600 S Stony Island   \n",
       "3                 6/4/2015 5:44 PM                     5900 S Ellis   \n",
       "4  No traffic stops for 06/05/2015  No traffic stops for 06/05/2015   \n",
       "\n",
       "                              Race                           Gender  \\\n",
       "0  No traffic stops for 06/01/2015  No traffic stops for 06/01/2015   \n",
       "1  No traffic stops for 06/02/2015  No traffic stops for 06/02/2015   \n",
       "2                 African American                           Female   \n",
       "3                 African American                           Female   \n",
       "4  No traffic stops for 06/05/2015  No traffic stops for 06/05/2015   \n",
       "\n",
       "               IDOT Classification  \\\n",
       "0  No traffic stops for 06/01/2015   \n",
       "1  No traffic stops for 06/02/2015   \n",
       "2              Traffic Sign/Signal   \n",
       "3                 Follow Too Close   \n",
       "4  No traffic stops for 06/05/2015   \n",
       "\n",
       "                                     Reason for Stop  \\\n",
       "0                    No traffic stops for 06/01/2015   \n",
       "1                    No traffic stops for 06/02/2015   \n",
       "2  Stop Sign Violation, Failed to Yield to Pedest...   \n",
       "3  Following too closely to vehicle stopped for p...   \n",
       "4                    No traffic stops for 06/05/2015   \n",
       "\n",
       "              Citations/Violations                      Disposition  \\\n",
       "0  No traffic stops for 06/01/2015  No traffic stops for 06/01/2015   \n",
       "1  No traffic stops for 06/02/2015  No traffic stops for 06/02/2015   \n",
       "2                              NaN                   Verbal Warning   \n",
       "3                              NaN                   Verbal Warning   \n",
       "4  No traffic stops for 06/05/2015  No traffic stops for 06/05/2015   \n",
       "\n",
       "                            Search  \n",
       "0  No traffic stops for 06/01/2015  \n",
       "1  No traffic stops for 06/02/2015  \n",
       "2                               No  \n",
       "3                               No  \n",
       "4  No traffic stops for 06/05/2015  "
      ]
     },
     "execution_count": 10,
     "metadata": {},
     "output_type": "execute_result"
    }
   ],
   "source": [
    "# Test scraping traffic data\n",
    "df = scrape_UCPD_data(max_page = 10, data_type = \"Traffic\")\n",
    "df.head()"
   ]
  },
  {
   "cell_type": "markdown",
   "metadata": {},
   "source": [
    "As you can see, the data set here contains the information we want, but it's still a bit messy. We'll need to clean it up a bit before it becomes easily workable. For now, we'll export our two data sets as .csv files to be cleaned later."
   ]
  },
  {
   "cell_type": "markdown",
   "metadata": {},
   "source": [
    "# Exporting data for cleaning and visualization"
   ]
  },
  {
   "cell_type": "code",
   "execution_count": 11,
   "metadata": {},
   "outputs": [
    {
     "name": "stdout",
     "output_type": "stream",
     "text": [
      "Creating and exporting field_interview_df.csv took 161.6256890296936 seconds.\n"
     ]
    }
   ],
   "source": [
    "import time\n",
    "\n",
    "start = time.time()\n",
    "field_df = scrape_UCPD_data(data_type = \"Field Interview\")\n",
    "field_df.to_csv(\"../data/field_interview_df.csv\")\n",
    "end = time.time()\n",
    "print(f\"Creating and exporting field_interview_df.csv took {end - start} seconds.\")"
   ]
  },
  {
   "cell_type": "code",
   "execution_count": 12,
   "metadata": {},
   "outputs": [
    {
     "name": "stdout",
     "output_type": "stream",
     "text": [
      "Creating and exporting  traffic_df.csv took 503.35290002822876 seconds.\n"
     ]
    }
   ],
   "source": [
    "start = time.time()\n",
    "traffic_df = scrape_UCPD_data(data_type = \"Traffic\")\n",
    "traffic_df.to_csv(\"../data/traffic_df.csv\")\n",
    "end = time.time()\n",
    "print(f\"Creating and exporting  traffic_df.csv took {end - start} seconds.\")"
   ]
  }
 ],
 "metadata": {
  "@webio": {
   "lastCommId": null,
   "lastKernelId": null
  },
  "kernelspec": {
   "display_name": "Python 3",
   "language": "python",
   "name": "python3"
  },
  "language_info": {
   "codemirror_mode": {
    "name": "ipython",
    "version": 3
   },
   "file_extension": ".py",
   "mimetype": "text/x-python",
   "name": "python",
   "nbconvert_exporter": "python",
   "pygments_lexer": "ipython3",
   "version": "3.7.4"
  }
 },
 "nbformat": 4,
 "nbformat_minor": 2
}
